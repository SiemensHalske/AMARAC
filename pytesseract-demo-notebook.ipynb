{
  "nbformat": 4,
  "nbformat_minor": 0,
  "metadata": {
    "colab": {
      "name": "Untitled0.ipynb",
      "provenance": []
    },
    "kernelspec": {
      "name": "python3",
      "display_name": "Python 3"
    }
  },
  "cells": [
    {
      "cell_type": "code",
      "source": [
        "!pip install trimesh pyvista\n"
      ],
      "metadata": {
        "id": "1HWIv3inLuFN",
        "outputId": "bd9cb25c-bc87-4954-8403-2edcf83c3d50",
        "colab": {
          "base_uri": "https://localhost:8080/"
        }
      },
      "execution_count": 6,
      "outputs": [
        {
          "output_type": "stream",
          "name": "stdout",
          "text": [
            "Collecting trimesh\n",
            "  Downloading trimesh-4.5.3-py3-none-any.whl.metadata (18 kB)\n",
            "Collecting pyvista\n",
            "  Downloading pyvista-0.44.2-py3-none-any.whl.metadata (15 kB)\n",
            "Requirement already satisfied: numpy>=1.20 in /usr/local/lib/python3.11/dist-packages (from trimesh) (1.26.4)\n",
            "Requirement already satisfied: matplotlib>=3.0.1 in /usr/local/lib/python3.11/dist-packages (from pyvista) (3.10.0)\n",
            "Requirement already satisfied: pillow in /usr/local/lib/python3.11/dist-packages (from pyvista) (11.1.0)\n",
            "Requirement already satisfied: pooch in /usr/local/lib/python3.11/dist-packages (from pyvista) (1.8.2)\n",
            "Requirement already satisfied: scooby>=0.5.1 in /usr/local/lib/python3.11/dist-packages (from pyvista) (0.10.0)\n",
            "Collecting vtk<9.4.0 (from pyvista)\n",
            "  Downloading vtk-9.3.1-cp311-cp311-manylinux_2_17_x86_64.manylinux2014_x86_64.whl.metadata (5.2 kB)\n",
            "Requirement already satisfied: typing-extensions in /usr/local/lib/python3.11/dist-packages (from pyvista) (4.12.2)\n",
            "Requirement already satisfied: contourpy>=1.0.1 in /usr/local/lib/python3.11/dist-packages (from matplotlib>=3.0.1->pyvista) (1.3.1)\n",
            "Requirement already satisfied: cycler>=0.10 in /usr/local/lib/python3.11/dist-packages (from matplotlib>=3.0.1->pyvista) (0.12.1)\n",
            "Requirement already satisfied: fonttools>=4.22.0 in /usr/local/lib/python3.11/dist-packages (from matplotlib>=3.0.1->pyvista) (4.55.3)\n",
            "Requirement already satisfied: kiwisolver>=1.3.1 in /usr/local/lib/python3.11/dist-packages (from matplotlib>=3.0.1->pyvista) (1.4.8)\n",
            "Requirement already satisfied: packaging>=20.0 in /usr/local/lib/python3.11/dist-packages (from matplotlib>=3.0.1->pyvista) (24.2)\n",
            "Requirement already satisfied: pyparsing>=2.3.1 in /usr/local/lib/python3.11/dist-packages (from matplotlib>=3.0.1->pyvista) (3.2.1)\n",
            "Requirement already satisfied: python-dateutil>=2.7 in /usr/local/lib/python3.11/dist-packages (from matplotlib>=3.0.1->pyvista) (2.8.2)\n",
            "Requirement already satisfied: platformdirs>=2.5.0 in /usr/local/lib/python3.11/dist-packages (from pooch->pyvista) (4.3.6)\n",
            "Requirement already satisfied: requests>=2.19.0 in /usr/local/lib/python3.11/dist-packages (from pooch->pyvista) (2.32.3)\n",
            "Requirement already satisfied: six>=1.5 in /usr/local/lib/python3.11/dist-packages (from python-dateutil>=2.7->matplotlib>=3.0.1->pyvista) (1.17.0)\n",
            "Requirement already satisfied: charset-normalizer<4,>=2 in /usr/local/lib/python3.11/dist-packages (from requests>=2.19.0->pooch->pyvista) (3.4.1)\n",
            "Requirement already satisfied: idna<4,>=2.5 in /usr/local/lib/python3.11/dist-packages (from requests>=2.19.0->pooch->pyvista) (3.10)\n",
            "Requirement already satisfied: urllib3<3,>=1.21.1 in /usr/local/lib/python3.11/dist-packages (from requests>=2.19.0->pooch->pyvista) (2.3.0)\n",
            "Requirement already satisfied: certifi>=2017.4.17 in /usr/local/lib/python3.11/dist-packages (from requests>=2.19.0->pooch->pyvista) (2024.12.14)\n",
            "Downloading trimesh-4.5.3-py3-none-any.whl (704 kB)\n",
            "\u001b[2K   \u001b[90m━━━━━━━━━━━━━━━━━━━━━━━━━━━━━━━━━━━━━━━━\u001b[0m \u001b[32m704.8/704.8 kB\u001b[0m \u001b[31m9.2 MB/s\u001b[0m eta \u001b[36m0:00:00\u001b[0m\n",
            "\u001b[?25hDownloading pyvista-0.44.2-py3-none-any.whl (2.2 MB)\n",
            "\u001b[2K   \u001b[90m━━━━━━━━━━━━━━━━━━━━━━━━━━━━━━━━━━━━━━━━\u001b[0m \u001b[32m2.2/2.2 MB\u001b[0m \u001b[31m34.2 MB/s\u001b[0m eta \u001b[36m0:00:00\u001b[0m\n",
            "\u001b[?25hDownloading vtk-9.3.1-cp311-cp311-manylinux_2_17_x86_64.manylinux2014_x86_64.whl (92.1 MB)\n",
            "\u001b[2K   \u001b[90m━━━━━━━━━━━━━━━━━━━━━━━━━━━━━━━━━━━━━━━━\u001b[0m \u001b[32m92.1/92.1 MB\u001b[0m \u001b[31m7.1 MB/s\u001b[0m eta \u001b[36m0:00:00\u001b[0m\n",
            "\u001b[?25hInstalling collected packages: trimesh, vtk, pyvista\n",
            "Successfully installed pyvista-0.44.2 trimesh-4.5.3 vtk-9.3.1\n"
          ]
        }
      ]
    },
    {
      "cell_type": "code",
      "source": [
        "import numpy as np\n",
        "import trimesh\n",
        "import pyvista as pv\n",
        "from noise import pnoise2\n"
      ],
      "metadata": {
        "id": "R7cofnKHLvg2"
      },
      "execution_count": 4,
      "outputs": []
    },
    {
      "cell_type": "code",
      "source": [
        "class BiomeMapGenerator3D:\n",
        "    def __init__(self, width=100, height=100, scale=0.1, octaves=6, persistence=0.5, lacunarity=2.0, seed=None):\n",
        "        self.width = width\n",
        "        self.height = height\n",
        "        self.scale = scale\n",
        "        self.octaves = octaves\n",
        "        self.persistence = persistence\n",
        "        self.lacunarity = lacunarity\n",
        "        self.seed = seed if seed is not None else np.random.randint(0, 100)\n",
        "        self.biome_heights = {\n",
        "            \"Wasser\": -0.5,\n",
        "            \"Sand\": 0.0,\n",
        "            \"Grasland\": 0.1,\n",
        "            \"Wald\": 0.3,\n",
        "            \"Berge\": 1.0\n",
        "        }\n",
        "\n",
        "    def generate_biome_map(self):\n",
        "        world = np.zeros((self.height, self.width))\n",
        "\n",
        "        for y in range(self.height):\n",
        "            for x in range(self.width):\n",
        "                noise_value = pnoise2(x * self.scale,\n",
        "                                      y * self.scale,\n",
        "                                      octaves=self.octaves,\n",
        "                                      persistence=self.persistence,\n",
        "                                      lacunarity=self.lacunarity,\n",
        "                                      repeatx=self.width,\n",
        "                                      repeaty=self.height,\n",
        "                                      base=self.seed)\n",
        "                world[y][x] = noise_value\n",
        "\n",
        "        return world\n",
        "\n",
        "    def get_biome(self, value):\n",
        "        if value < -0.2:\n",
        "            return \"Wasser\"\n",
        "        elif value < 0:\n",
        "            return \"Sand\"\n",
        "        elif value < 0.2:\n",
        "            return \"Grasland\"\n",
        "        elif value < 0.5:\n",
        "            return \"Wald\"\n",
        "        else:\n",
        "            return \"Berge\"\n",
        "\n",
        "    def generate_height_map(self, biome_map):\n",
        "        height_map = np.zeros_like(biome_map)\n",
        "\n",
        "        for y in range(self.height):\n",
        "            for x in range(self.width):\n",
        "                biome = self.get_biome(biome_map[y][x])\n",
        "                height_map[y][x] = self.biome_heights[biome]\n",
        "\n",
        "        return height_map\n",
        "    def create_3d_mesh(self, height_map):\n",
        "        vertices = []\n",
        "        faces = []\n",
        "\n",
        "        for y in range(self.height):\n",
        "            for x in range(self.width):\n",
        "                z = height_map[y][x]\n",
        "                vertices.append([x, y, z])\n",
        "\n",
        "        for y in range(self.height - 1):\n",
        "            for x in range(self.width - 1):\n",
        "                v1 = y * self.width + x\n",
        "                v2 = v1 + 1\n",
        "                v3 = v1 + self.width\n",
        "                v4 = v3 + 1\n",
        "                faces.append([v1, v2, v3])\n",
        "                faces.append([v2, v4, v3])\n",
        "\n",
        "        vertices = np.array(vertices)\n",
        "        faces = np.array(faces)\n",
        "\n",
        "        mesh = trimesh.Trimesh(vertices=vertices, faces=faces)\n",
        "        return mesh\n",
        "\n",
        "    def plot_3d_map(self, mesh):\n",
        "        plotter = pv.Plotter()\n",
        "        plotter.add_mesh(mesh, show_edges=True)\n",
        "        plotter.show()\n"
      ],
      "metadata": {
        "id": "EIGYF-8CT2D9"
      },
      "execution_count": 5,
      "outputs": []
    },
    {
      "cell_type": "code",
      "source": [
        "# Erstelle ein Objekt der Klasse und generiere die 3D-Karte\n",
        "generator = BiomeMapGenerator3D(width=100, height=100, scale=0.1, octaves=6, persistence=0.5, lacunarity=2.0, seed=42)\n",
        "biome_map = generator.generate_biome_map()\n",
        "height_map = generator.generate_height_map(biome_map)\n",
        "mesh = generator.create_3d_mesh(height_map)\n",
        "generator.plot_3d_map(mesh)"
      ],
      "metadata": {
        "id": "raPuOLdOT-C4"
      },
      "execution_count": null,
      "outputs": []
    }
  ]
}